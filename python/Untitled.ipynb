{
 "cells": [
  {
   "cell_type": "code",
   "execution_count": 32,
   "id": "d2b659ef-c7cc-4066-b057-7f8464124b75",
   "metadata": {},
   "outputs": [
    {
     "name": "stdout",
     "output_type": "stream",
     "text": [
      "Requirement already satisfied: requests in /home/adventure/anaconda3/lib/python3.11/site-packages (2.31.0)\n",
      "Requirement already satisfied: charset-normalizer<4,>=2 in /home/adventure/anaconda3/lib/python3.11/site-packages (from requests) (3.3.2)\n",
      "Requirement already satisfied: idna<4,>=2.5 in /home/adventure/anaconda3/lib/python3.11/site-packages (from requests) (3.4)\n",
      "Requirement already satisfied: urllib3<3,>=1.21.1 in /home/adventure/anaconda3/lib/python3.11/site-packages (from requests) (1.26.18)\n",
      "Requirement already satisfied: certifi>=2017.4.17 in /home/adventure/anaconda3/lib/python3.11/site-packages (from requests) (2024.2.2)\n",
      "Requirement already satisfied: faker in /home/adventure/anaconda3/lib/python3.11/site-packages (0.7.4)\n",
      "Requirement already satisfied: python-dateutil>=2.4 in /home/adventure/anaconda3/lib/python3.11/site-packages (from faker) (2.8.2)\n",
      "Requirement already satisfied: six in /home/adventure/anaconda3/lib/python3.11/site-packages (from faker) (1.16.0)\n"
     ]
    }
   ],
   "source": [
    "!pip install requests\n",
    "!pip install faker"
   ]
  },
  {
   "cell_type": "code",
   "execution_count": 41,
   "id": "fc5da760-ccd8-4f1d-ae7a-1f615c8a5e61",
   "metadata": {},
   "outputs": [
    {
     "name": "stdout",
     "output_type": "stream",
     "text": [
      "received response :: {'Vary': 'Origin, Access-Control-Request-Method, Access-Control-Request-Headers', 'X-Content-Type-Options': 'nosniff', 'X-XSS-Protection': '0', 'Cache-Control': 'no-cache, no-store, max-age=0, must-revalidate', 'Pragma': 'no-cache', 'Expires': '0', 'X-Frame-Options': 'DENY', 'Set-Cookie': 'JSESSIONID=2DD1069BD8A69378E06DA7DBFAEFB761; Path=/; HttpOnly', 'Location': 'http://localhost:8000/login;jsessionid=2DD1069BD8A69378E06DA7DBFAEFB761', 'Content-Length': '0', 'Date': 'Sun, 28 Jul 2024 12:51:06 GMT', 'Keep-Alive': 'timeout=60', 'Connection': 'keep-alive'}\n",
      "Redirected URL: http://localhost:8000/login;jsessionid=2DD1069BD8A69378E06DA7DBFAEFB761\n"
     ]
    }
   ],
   "source": [
    "import requests\n",
    "from faker import Faker\n",
    "\n",
    "fake = Faker()\n",
    "# Define the request payload\n",
    "submit_credentials_request = {\n",
    "    \"emailAddress\": fake.email(),\n",
    "    \"password\": \"password1243\",\n",
    "    \"termOfUse\": True\n",
    "\n",
    "}\n",
    "\n",
    "# Send a POST request to the /onboarding/submitCredentials endpoint\n",
    "response = requests.post(\"http://localhost:8000/onboarding/submitCredentials\", json=submit_credentials_request, allow_redirects=False)\n",
    "\n",
    "# Check if the response is a redirect\n",
    "if response.status_code == 302:\n",
    "    print(f\"received response :: {response.headers}\")\n",
    "    # Retrieve the Authorization header from the response\n",
    "    # auth_header = response.headers.get(\"Authorization\")\n",
    "    #if auth_header:\n",
    "        # Extract the Bearer token\n",
    "     #   bearer_token = auth_header.split(\" \")[1]\n",
    "      #  print(f\"Bearer Token: {bearer_token}\")\n",
    "    #else:\n",
    "     #   print(\"Authorization header not found in the response.\")\n",
    "else:\n",
    "    print(f\"Request failed with status code: {response.status_code}\")\n",
    "\n",
    "# Optional: Follow the redirect if needed\n",
    "if 'Location' in response.headers:\n",
    "    redirected_url = response.headers['Location']\n",
    "    print(f\"Redirected URL: {redirected_url}\")\n",
    "else:\n",
    "    print(\"No redirect location found in the response.\")\n"
   ]
  },
  {
   "cell_type": "code",
   "execution_count": null,
   "id": "cd574c22-5862-42f6-b474-49ed38543e15",
   "metadata": {},
   "outputs": [],
   "source": []
  }
 ],
 "metadata": {
  "kernelspec": {
   "display_name": "Python 3 (ipykernel)",
   "language": "python",
   "name": "python3"
  },
  "language_info": {
   "codemirror_mode": {
    "name": "ipython",
    "version": 3
   },
   "file_extension": ".py",
   "mimetype": "text/x-python",
   "name": "python",
   "nbconvert_exporter": "python",
   "pygments_lexer": "ipython3",
   "version": "3.11.7"
  }
 },
 "nbformat": 4,
 "nbformat_minor": 5
}
